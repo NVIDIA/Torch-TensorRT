{
 "cells": [
  {
   "cell_type": "code",
   "execution_count": null,
   "metadata": {},
   "outputs": [],
   "source": [
    "import torch_tensorrt\n",
    "from torch_tensorrt.dynamo.tools.opset_coverage import ATEN_COVERAGE, PRIMS_COVERAGE, PY_OVERLOAD_COVERAGE, SupportStatus, OpsetCoverage"
   ]
  },
  {
   "cell_type": "code",
   "execution_count": null,
   "metadata": {},
   "outputs": [],
   "source": [
    "unsupported_ops = {}\n",
    "backwards_ops = {}\n",
    "\n",
    "for target, info in ATEN_COVERAGE.support_status.items():\n",
    "    if info[\"status\"] == \"FALLBACK\":\n",
    "        if \"backward\" not in target:\n",
    "            unsupported_ops.update({target : info[\"schema\"]})\n",
    "        else:\n",
    "            backwards_ops.update({target : info[\"schema\"]})\n",
    "\n",
    "print(\"Unsupported Ops:\")\n",
    "for _, schema in unsupported_ops.items():\n",
    "    print(schema)\n",
    "\n",
    "print(\"\\nBackwards Ops:\")\n",
    "for _, schema in backwards_ops.items():\n",
    "    print(schema)\n"
   ]
  },
  {
   "cell_type": "code",
   "execution_count": null,
   "metadata": {},
   "outputs": [],
   "source": [
    "unsupported_ops = {}\n",
    "backwards_ops = {}\n",
    "\n",
    "for target, info in PRIMS_COVERAGE.support_status.items():\n",
    "    if info[\"status\"] == \"FALLBACK\":\n",
    "        if \"backward\" not in target:\n",
    "            unsupported_ops.update({target : info[\"schema\"]})\n",
    "        else:\n",
    "            backwards_ops.update({target : info[\"schema\"]})\n",
    "\n",
    "print(\"Unsupported Ops:\")\n",
    "for _, schema in unsupported_ops.items():\n",
    "    print(schema)\n",
    "\n",
    "print(\"\\nBackwards Ops:\")\n",
    "for _, schema in backwards_ops.items():\n",
    "    print(schema)"
   ]
  },
  {
   "cell_type": "code",
   "execution_count": null,
   "metadata": {},
   "outputs": [],
   "source": []
  }
 ],
 "metadata": {
  "kernelspec": {
   "display_name": "torch230cu121py311",
   "language": "python",
   "name": "python3"
  },
  "language_info": {
   "codemirror_mode": {
    "name": "ipython",
    "version": 3
   },
   "file_extension": ".py",
   "mimetype": "text/x-python",
   "name": "python",
   "nbconvert_exporter": "python",
   "pygments_lexer": "ipython3",
   "version": "3.11.7"
  }
 },
 "nbformat": 4,
 "nbformat_minor": 2
}
