{
  "cells": [
    {
      "cell_type": "markdown",
      "metadata": {},
      "source": [
        "\n\n# Torch Export with Cudagraphs\n\nThis interactive script is intended as an overview of the process by which the Torch-TensorRT Cudagraphs integration can be used in the `ir=\"dynamo\"` path. The functionality works similarly in the `torch.compile` path as well.\n"
      ]
    },
    {
      "cell_type": "markdown",
      "metadata": {},
      "source": [
        "## Imports and Model Definition\n\n"
      ]
    },
    {
      "cell_type": "code",
      "execution_count": null,
      "metadata": {
        "collapsed": false
      },
      "outputs": [],
      "source": [
        "import torch\nimport torchvision.models as models\n\nimport torch_tensorrt"
      ]
    },
    {
      "cell_type": "markdown",
      "metadata": {},
      "source": [
        "## Compilation with `torch_tensorrt.compile` Using Default Settings\n\n"
      ]
    },
    {
      "cell_type": "code",
      "execution_count": null,
      "metadata": {
        "collapsed": false
      },
      "outputs": [],
      "source": [
        "# We begin by defining and initializing a model\nmodel = models.resnet18(pretrained=True).eval().to(\"cuda\")\n\n# Define sample inputs\ninputs = torch.randn((16, 3, 224, 224)).cuda()"
      ]
    },
    {
      "cell_type": "code",
      "execution_count": null,
      "metadata": {
        "collapsed": false
      },
      "outputs": [],
      "source": [
        "# Next, we compile the model using torch_tensorrt.compile\n# We use the `ir=\"dynamo\"` flag here, and `ir=\"torch_compile\"` should\n# work with cudagraphs as well.\nopt = torch_tensorrt.compile(\n    model,\n    ir=\"dynamo\",\n    inputs=torch_tensorrt.Input(\n        min_shape=(1, 3, 224, 224),\n        opt_shape=(8, 3, 224, 224),\n        max_shape=(16, 3, 224, 224),\n        dtype=torch.float,\n        name=\"x\",\n    ),\n)"
      ]
    },
    {
      "cell_type": "markdown",
      "metadata": {},
      "source": [
        "## Inference using the Cudagraphs Integration\n\n"
      ]
    },
    {
      "cell_type": "code",
      "execution_count": null,
      "metadata": {
        "collapsed": false
      },
      "outputs": [],
      "source": [
        "# We can enable the cudagraphs API with a context manager\nwith torch_tensorrt.runtime.enable_cudagraphs():\n    out_trt = opt(inputs)\n\n# Alternatively, we can set the cudagraphs mode for the session\ntorch_tensorrt.runtime.set_cudagraphs_mode(True)\nout_trt = opt(inputs)\n\n# We can also turn off cudagraphs mode and perform inference as normal\ntorch_tensorrt.runtime.set_cudagraphs_mode(False)\nout_trt = opt(inputs)"
      ]
    },
    {
      "cell_type": "code",
      "execution_count": null,
      "metadata": {
        "collapsed": false
      },
      "outputs": [],
      "source": [
        "# If we provide new input shapes, cudagraphs will re-record the graph\ninputs_2 = torch.randn((8, 3, 224, 224)).cuda()\ninputs_3 = torch.randn((4, 3, 224, 224)).cuda()\n\nwith torch_tensorrt.runtime.enable_cudagraphs():\n    out_trt_2 = opt(inputs_2)\n    out_trt_3 = opt(inputs_3)"
      ]
    }
  ],
  "metadata": {
    "kernelspec": {
      "display_name": "Python 3",
      "language": "python",
      "name": "python3"
    },
    "language_info": {
      "codemirror_mode": {
        "name": "ipython",
        "version": 3
      },
      "file_extension": ".py",
      "mimetype": "text/x-python",
      "name": "python",
      "nbconvert_exporter": "python",
      "pygments_lexer": "ipython3",
      "version": "3.11.11"
    }
  },
  "nbformat": 4,
  "nbformat_minor": 0
}